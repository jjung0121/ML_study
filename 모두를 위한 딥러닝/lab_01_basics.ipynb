{
  "nbformat": 4,
  "nbformat_minor": 0,
  "metadata": {
    "colab": {
      "name": "lab-01-basics.ipynb",
      "version": "0.3.2",
      "provenance": [],
      "include_colab_link": true
    },
    "kernelspec": {
      "name": "python3",
      "display_name": "Python 3"
    }
  },
  "cells": [
    {
      "cell_type": "markdown",
      "metadata": {
        "id": "view-in-github",
        "colab_type": "text"
      },
      "source": [
        "<a href=\"https://colab.research.google.com/github/jjung0121/ML_study/blob/master/%EB%AA%A8%EB%91%90%EB%A5%BC%20%EC%9C%84%ED%95%9C%20%EB%94%A5%EB%9F%AC%EB%8B%9D/lab_01_basics.ipynb\" target=\"_parent\"><img src=\"https://colab.research.google.com/assets/colab-badge.svg\" alt=\"Open In Colab\"/></a>"
      ]
    },
    {
      "metadata": {
        "id": "q_qMGpzFu8vi",
        "colab_type": "text"
      },
      "cell_type": "markdown",
      "source": [
        "## Check TF version"
      ]
    },
    {
      "metadata": {
        "id": "Ljwd2mlQuZTD",
        "colab_type": "code",
        "outputId": "b750459c-2154-40bf-e7af-aacae5fd20ad",
        "colab": {
          "base_uri": "https://localhost:8080/",
          "height": 34
        }
      },
      "cell_type": "code",
      "source": [
        "import tensorflow as tf\n",
        "tf.__version__"
      ],
      "execution_count": 0,
      "outputs": [
        {
          "output_type": "execute_result",
          "data": {
            "text/plain": [
              "'1.13.1'"
            ]
          },
          "metadata": {
            "tags": []
          },
          "execution_count": 1
        }
      ]
    },
    {
      "metadata": {
        "id": "JOQdtZiQvDZj",
        "colab_type": "text"
      },
      "cell_type": "markdown",
      "source": [
        "## print \"Hello TensorFlow!\""
      ]
    },
    {
      "metadata": {
        "id": "wMtYF6UWuk02",
        "colab_type": "code",
        "outputId": "6a90d005-4ba0-4d01-be98-6e7641030f74",
        "colab": {
          "base_uri": "https://localhost:8080/",
          "height": 34
        }
      },
      "cell_type": "code",
      "source": [
        "# Create a constant op\n",
        "# This op is added as a node to the default graph\n",
        "hello = tf.constant(\"Hello, TensorFlow!\")\n",
        "\n",
        "# start a TF session\n",
        "sess = tf.Session()\n",
        "\n",
        "# run the op and get result\n",
        "print(sess.run(hello))\n",
        "\n",
        "# \"b\" indicates Bytes literals."
      ],
      "execution_count": 0,
      "outputs": [
        {
          "output_type": "stream",
          "text": [
            "b'Hello, TensorFlow!'\n"
          ],
          "name": "stdout"
        }
      ]
    },
    {
      "metadata": {
        "id": "zcGCzIlGwHMr",
        "colab_type": "text"
      },
      "cell_type": "markdown",
      "source": [
        "## Computational Graph"
      ]
    },
    {
      "metadata": {
        "id": "ksEn6uj_v1MR",
        "colab_type": "code",
        "colab": {}
      },
      "cell_type": "code",
      "source": [
        "# 1. Build graph(tenors) using TensorFlow operations\n",
        "\n",
        "node1 = tf.constant(3.0, tf.float32)\n",
        "node2 = tf.constant(4.0) # also tf.float32 implicitly\n",
        "\n",
        "# node3 = tf.add(node1, node2)\n",
        "node3 = node1 + node2"
      ],
      "execution_count": 0,
      "outputs": []
    },
    {
      "metadata": {
        "id": "ZALGXJSFwTW_",
        "colab_type": "code",
        "outputId": "646b1216-9cc9-447c-cf0f-dea621b16eeb",
        "colab": {
          "base_uri": "https://localhost:8080/",
          "height": 72
        }
      },
      "cell_type": "code",
      "source": [
        "\n",
        "print(\"node1:\", node1, \"node2:\", node2)\n",
        "print(\"node3: \", node3)"
      ],
      "execution_count": 0,
      "outputs": [
        {
          "output_type": "stream",
          "text": [
            "node1: Tensor(\"Const_1:0\", shape=(), dtype=float32) node2: Tensor(\"Const_2:0\", shape=(), dtype=float32)\n",
            "node3:  Tensor(\"add:0\", shape=(), dtype=float32)\n"
          ],
          "name": "stdout"
        }
      ]
    },
    {
      "metadata": {
        "id": "LbjotCE4QUTx",
        "colab_type": "text"
      },
      "cell_type": "markdown",
      "source": [
        "![Graph](https://www.tensorflow.org/images/getting_started_adder.png)"
      ]
    },
    {
      "metadata": {
        "id": "OpmEV-jMwVva",
        "colab_type": "code",
        "outputId": "37457b08-d927-4e21-ee96-2ec35f750c04",
        "colab": {
          "base_uri": "https://localhost:8080/",
          "height": 52
        }
      },
      "cell_type": "code",
      "source": [
        "# 2. feed data and run graph(operation)\n",
        "# 3. update variables in the graph and return values\n",
        "\n",
        "sess = tf.Session()\n",
        "print(\"sess.run(node1, node2): \", sess.run([node1, node2]))\n",
        "print(\"sess.run(node3): \", sess.run(node3))"
      ],
      "execution_count": 0,
      "outputs": [
        {
          "output_type": "stream",
          "text": [
            "sess.run(node1, node2):  [3.0, 4.0]\n",
            "sess.run(node3):  7.0\n"
          ],
          "name": "stdout"
        }
      ]
    },
    {
      "metadata": {
        "id": "9rZuIJc9x4b7",
        "colab_type": "text"
      },
      "cell_type": "markdown",
      "source": [
        "## Placeholder node"
      ]
    },
    {
      "metadata": {
        "id": "rZOzf9F5wdg8",
        "colab_type": "code",
        "outputId": "2de25876-189a-4703-b274-031a5c8a7e5d",
        "colab": {
          "base_uri": "https://localhost:8080/",
          "height": 52
        }
      },
      "cell_type": "code",
      "source": [
        "a = tf.placeholder(tf.float32)\n",
        "b = tf.placeholder(tf.float32)\n",
        "adder_node = a + b  # + provides a shortcut for tf.add(a, b)\n",
        "\n",
        "print(sess.run(adder_node, feed_dict={a: 3, b: 4.5}))\n",
        "print(sess.run(adder_node, feed_dict={a: [1,3], b: [2, 4]}))"
      ],
      "execution_count": 0,
      "outputs": [
        {
          "output_type": "stream",
          "text": [
            "7.5\n",
            "[3. 7.]\n"
          ],
          "name": "stdout"
        }
      ]
    },
    {
      "metadata": {
        "id": "SCpwlXm-wfjs",
        "colab_type": "code",
        "outputId": "9e198a25-0ec8-43f5-f52d-c6f45e9ccb7c",
        "colab": {
          "base_uri": "https://localhost:8080/",
          "height": 34
        }
      },
      "cell_type": "code",
      "source": [
        "add_and_triple = adder_node * 3.\n",
        "print(sess.run(add_and_triple, feed_dict={a: 3, b:4.5}))"
      ],
      "execution_count": 0,
      "outputs": [
        {
          "output_type": "stream",
          "text": [
            "22.5\n"
          ],
          "name": "stdout"
        }
      ]
    },
    {
      "metadata": {
        "id": "-NX4-a9fvvh5",
        "colab_type": "text"
      },
      "cell_type": "markdown",
      "source": [
        "## Tensor (≒array)\n",
        "\n",
        "### Ranks\n",
        "\n",
        "|  <center>Rank</center> |  <center>Math entity</center> |  <center>Python example</center> |\n",
        "|:--------|:--------:|--------:|\n",
        "|<center> 0 </center> | <center>**Scala**(magnitude only)</center> |*s = 483* |\n",
        "|<center> 1 </center> | <center>**Vector**(magnitude and direction)</center> |*v = [1.1, 2.2, 3.3]* |\n",
        "|<center> 2 </center> | <center>**Matrix**(table of numbers)</center> |*m = [[1, 2, 3],[4, 5, 6],[7, 8, 9]]* |\n",
        "|<center> 3 </center> | <center>**3-Tensor**(cube of numbers)</center> |*t = [[[2], [4], [6]], [[8], [10], [12]], [[14], [16], [18]]]* |\n",
        "|<center> n </center> | <center>**n-Tensor**(you get the idea)</center> |*...* |\n",
        "\n",
        "### Shapes\n",
        "\n",
        "|  <center>Rank</center> |  <center>Shape</center> |  <center>Dimension number</center> |  <center>Example</center> |\n",
        "|:--------|:--------:|--------:|--------:|\n",
        "|<center> 0 </center> | <center>[]</center> |<center> 0-D</center>|A 0-D tensor. A scalar..|\n",
        "|<center> 1 </center> | <center>[D0]</center> |<center> 1-D </center>|A 1-D tensor with shape [5].|\n",
        "|<center> 2 </center> | <center>[D0, D1]</center> |<center> 2-D </center>|A 2-D tensor with shape [3, 4].|\n",
        "|<center> 3 </center> | <center>[D0, D1, D2]</center> |<center> 3-D </center>|A 3-D tensor with shape [1, 4, 3].|\n",
        "|<center> n </center> | <center>[D0, D1, ..., Dn-1]</center> |<center> n-D </center>|A tensor with shape [D0, D1, ..., Dn-1].|\n",
        "\n",
        "### Types\n",
        "\n",
        "|  <center>Data type</center> |  <center>Python type</center> |  <center>Description</center> |\n",
        "|:--------|:--------:|--------:|\n",
        "| DT_FLOAT | tf.float32 | 32 bits floating point|\n",
        "| DT_DOUBLE | tf.float64 | 64 bits floating point|\n",
        "| DT_INT8 | tf.int8 | 8 bits signed integer|\n",
        "| DT_INT16 | tf.int16 | 16 bits signed integer|\n",
        "| DT_INT32 | tf.int32 | 32 bits signed integer|\n",
        "| DT_INT64 | tf.int64 | 64 bits signed integer|"
      ]
    },
    {
      "metadata": {
        "id": "tUHtxjXbvQJB",
        "colab_type": "code",
        "outputId": "44cc2245-bea0-4268-e0b6-e6bffe4ba260",
        "colab": {
          "base_uri": "https://localhost:8080/",
          "height": 34
        }
      },
      "cell_type": "code",
      "source": [
        "3 # a rank 0 tensor; this is a scalar with shape []\n",
        "[1. ,2., 3.] # a rank 1 tensor; this is a vector with shape [3]\n",
        "[[1., 2., 3.], [4., 5., 6.]] # a rank 2 tensor; a matrix with shape [2, 3]\n",
        "[[[1., 2., 3.]], [[7., 8., 9.]]] # a rank 3 tensor with shape [2, 1, 3]"
      ],
      "execution_count": 0,
      "outputs": [
        {
          "output_type": "execute_result",
          "data": {
            "text/plain": [
              "[[[1.0, 2.0, 3.0]], [[7.0, 8.0, 9.0]]]"
            ]
          },
          "metadata": {
            "tags": []
          },
          "execution_count": 3
        }
      ]
    },
    {
      "metadata": {
        "id": "UPFDDCZWPycC",
        "colab_type": "code",
        "colab": {}
      },
      "cell_type": "code",
      "source": [
        ""
      ],
      "execution_count": 0,
      "outputs": []
    }
  ]
}